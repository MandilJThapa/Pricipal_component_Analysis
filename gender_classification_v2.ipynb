{
  "cells": [
    {
      "cell_type": "markdown",
      "metadata": {
        "id": "view-in-github",
        "colab_type": "text"
      },
      "source": [
        "<a href=\"https://colab.research.google.com/github/MandilJThapa/Pricipal_component_Analysis/blob/master/gender_classification_v2.ipynb\" target=\"_parent\"><img src=\"https://colab.research.google.com/assets/colab-badge.svg\" alt=\"Open In Colab\"/></a>"
      ]
    },
    {
      "cell_type": "code",
      "execution_count": 72,
      "metadata": {
        "id": "M2K1dga0riA7"
      },
      "outputs": [],
      "source": [
        "!mkdir -p ~/.kaggle\n",
        "!cp kaggle.json ~/.kaggle/"
      ]
    },
    {
      "cell_type": "code",
      "execution_count": 73,
      "metadata": {
        "colab": {
          "base_uri": "https://localhost:8080/"
        },
        "id": "0cO6NG9wtwim",
        "outputId": "2018133e-b5f0-4c20-bb37-3dc5c97e7b0d"
      },
      "outputs": [
        {
          "output_type": "stream",
          "name": "stdout",
          "text": [
            "Warning: Your Kaggle API key is readable by other users on this system! To fix this, you can run 'chmod 600 /root/.kaggle/kaggle.json'\n",
            "gender-classification-dataset.zip: Skipping, found more recently modified local copy (use --force to force download)\n"
          ]
        }
      ],
      "source": [
        "!kaggle datasets download -d cashutosh/gender-classification-dataset"
      ]
    },
    {
      "cell_type": "code",
      "execution_count": 74,
      "metadata": {
        "id": "A_rq2hTku1Nc"
      },
      "outputs": [],
      "source": [
        "import zipfile\n",
        "zipref= zipfile.ZipFile('/content/gender-classification-dataset.zip')\n",
        "zipref.extractall('/content')\n",
        "zipref.close()"
      ]
    },
    {
      "cell_type": "markdown",
      "metadata": {
        "id": "hyjRXukZiSEt"
      },
      "source": []
    },
    {
      "cell_type": "code",
      "execution_count": 75,
      "metadata": {
        "id": "uctv9VbNu5s7"
      },
      "outputs": [],
      "source": [
        "import tensorflow as tf\n",
        "from tensorflow import keras\n",
        "from tensorflow.keras.layers import Dense, Flatten, BatchNormalization, Conv2D, MaxPooling2D, Dropout\n",
        "from keras import Sequential\n",
        "from keras.preprocessing.image import ImageDataGenerator"
      ]
    },
    {
      "cell_type": "code",
      "execution_count": 76,
      "metadata": {
        "colab": {
          "base_uri": "https://localhost:8080/"
        },
        "id": "iojhD_ouvR3j",
        "outputId": "76354baa-386e-4bb5-8797-7d4b6c41f5b5"
      },
      "outputs": [
        {
          "output_type": "stream",
          "name": "stdout",
          "text": [
            "Found 47009 images belonging to 2 classes.\n",
            "Found 11649 images belonging to 2 classes.\n"
          ]
        }
      ],
      "source": [
        "train_datagen=  ImageDataGenerator(\n",
        "     rescale=1./255,\n",
        "    shear_range=0.2,\n",
        "    zoom_range=0.2,\n",
        "    horizontal_flip=True,\n",
        ")\n",
        "test_datagen= ImageDataGenerator( rescale=1./255,)\n",
        "\n",
        "train_ds = train_datagen.flow_from_directory(\n",
        "    directory='/content/Training',\n",
        "    # labels='inferred',\n",
        "    class_mode='binary',\n",
        "    batch_size=48,\n",
        "    target_size=(250, 250)\n",
        ")\n",
        "\n",
        "validation_ds =  test_datagen.flow_from_directory(\n",
        "    directory='/content/Validation',\n",
        "    # labels='inferred',\n",
        "    class_mode='binary',\n",
        "    batch_size=48,\n",
        "    target_size=(250, 250)\n",
        ")\n"
      ]
    },
    {
      "cell_type": "code",
      "execution_count": 77,
      "metadata": {
        "id": "n6JN8r6_vDc7"
      },
      "outputs": [],
      "source": [
        "# from keras.applications.vgg16 import VGG16\n",
        "# conv = VGG16(\n",
        "#     weights='imagenet',\n",
        "#     include_top= False,\n",
        "\n",
        "#     input_shape=(150,150,3))"
      ]
    },
    {
      "cell_type": "code",
      "execution_count": 78,
      "metadata": {
        "id": "VHV0wGvkQDDV"
      },
      "outputs": [],
      "source": [
        "\n",
        "from keras.preprocessing import image\n",
        "from keras.applications.vgg16 import VGG16, preprocess_input, decode_predictions\n",
        "import numpy as np\n"
      ]
    },
    {
      "cell_type": "code",
      "execution_count": 79,
      "metadata": {
        "id": "ycBvQRqrvHxU"
      },
      "outputs": [],
      "source": [
        "from keras import regularizers\n",
        "model= Sequential()\n",
        "\n",
        "model.add(Conv2D(32, kernel_size= (3,3), activation= 'relu',input_shape=(250,250,3),kernel_regularizer=regularizers.l2(0.001),padding=\"VALID\"))\n",
        "model.add(MaxPooling2D(pool_size=(2,2)))\n",
        "\n",
        "\n",
        "\n",
        "model.add(Conv2D(64, kernel_size= (3,3), activation= 'relu'))\n",
        "model.add(MaxPooling2D(pool_size=(2,2)))\n",
        "\n",
        "\n",
        "\n",
        "model.add(Conv2D(64, kernel_size= (3,3), activation= 'relu'))\n",
        "model.add(MaxPooling2D(pool_size=(2,2)))\n",
        "\n",
        "\n",
        "\n",
        "model.add(Conv2D(128, kernel_size= (3,3), activation= 'relu'))\n",
        "model.add(MaxPooling2D(pool_size=(2,2)))\n",
        "\n",
        "\n",
        "\n",
        "model.add(Conv2D(128, kernel_size= (3,3), activation= 'relu'))\n",
        "model.add(MaxPooling2D(pool_size=(2,2)))\n",
        "\n",
        "\n",
        "\n",
        "model.add(Flatten())\n",
        "model.add(Dense(256, activation='relu'))\n",
        "\n",
        "\n",
        "model.add(Dense(1, activation='sigmoid'))\n",
        "\n",
        "\n"
      ]
    },
    {
      "cell_type": "code",
      "execution_count": 80,
      "metadata": {
        "id": "RSIfaOiIvPsM"
      },
      "outputs": [],
      "source": [
        "# conv.trainable= False"
      ]
    },
    {
      "cell_type": "code",
      "execution_count": 81,
      "metadata": {
        "id": "24H5cqQ1vURc"
      },
      "outputs": [],
      "source": [
        "model.compile(optimizer='adam',loss='binary_crossentropy',metrics=['accuracy'])"
      ]
    },
    {
      "cell_type": "code",
      "execution_count": 82,
      "metadata": {
        "colab": {
          "base_uri": "https://localhost:8080/"
        },
        "id": "jYvYO4ifvnjG",
        "outputId": "ddcb745e-9247-48eb-c174-7c9f4ba7cf9c"
      },
      "outputs": [
        {
          "output_type": "stream",
          "name": "stdout",
          "text": [
            "Epoch 1/10\n",
            "70/70 [==============================] - 63s 862ms/step - loss: 0.6804 - accuracy: 0.5750 - val_loss: 0.5956 - val_accuracy: 0.6958\n",
            "Epoch 2/10\n",
            "70/70 [==============================] - 60s 857ms/step - loss: 0.5020 - accuracy: 0.7678 - val_loss: 0.4272 - val_accuracy: 0.8204\n",
            "Epoch 3/10\n",
            "70/70 [==============================] - 59s 839ms/step - loss: 0.4090 - accuracy: 0.8327 - val_loss: 0.3215 - val_accuracy: 0.8858\n",
            "Epoch 4/10\n",
            "70/70 [==============================] - 63s 897ms/step - loss: 0.3334 - accuracy: 0.8595 - val_loss: 0.2601 - val_accuracy: 0.9067\n",
            "Epoch 5/10\n",
            "70/70 [==============================] - 62s 891ms/step - loss: 0.3024 - accuracy: 0.8902 - val_loss: 0.2035 - val_accuracy: 0.9275\n",
            "Epoch 6/10\n",
            "70/70 [==============================] - 63s 895ms/step - loss: 0.2362 - accuracy: 0.9086 - val_loss: 0.2073 - val_accuracy: 0.9221\n",
            "Epoch 7/10\n",
            "70/70 [==============================] - 60s 854ms/step - loss: 0.2378 - accuracy: 0.9116 - val_loss: 0.2344 - val_accuracy: 0.9129\n",
            "Epoch 8/10\n",
            "70/70 [==============================] - 63s 901ms/step - loss: 0.2543 - accuracy: 0.9036 - val_loss: 0.1989 - val_accuracy: 0.9233\n",
            "Epoch 9/10\n",
            "70/70 [==============================] - 61s 870ms/step - loss: 0.2226 - accuracy: 0.9164 - val_loss: 0.1610 - val_accuracy: 0.9450\n",
            "Epoch 10/10\n",
            "70/70 [==============================] - 60s 866ms/step - loss: 0.2314 - accuracy: 0.9110 - val_loss: 0.2115 - val_accuracy: 0.9179\n"
          ]
        }
      ],
      "source": [
        "history = model.fit(train_ds, epochs=10, validation_data=validation_ds, steps_per_epoch=70, validation_steps=50)\n"
      ]
    },
    {
      "cell_type": "code",
      "execution_count": 90,
      "metadata": {
        "id": "MVbOBKPevqYj",
        "colab": {
          "base_uri": "https://localhost:8080/",
          "height": 449
        },
        "outputId": "6f5ec434-5026-486a-a897-7c13b7d28b2c"
      },
      "outputs": [
        {
          "output_type": "execute_result",
          "data": {
            "text/plain": [
              "[<matplotlib.lines.Line2D at 0x7ada6f012fb0>]"
            ]
          },
          "metadata": {},
          "execution_count": 90
        },
        {
          "output_type": "display_data",
          "data": {
            "text/plain": [
              "<Figure size 640x480 with 1 Axes>"
            ],
            "image/png": "[encoded data removed]"
          },
          "metadata": {}
        }
      ],
      "source": [
        "import matplotlib.pyplot as plt\n",
        "plt.plot(history.history['loss'])\n",
        "plt.plot(history.history['val_loss'])"
      ]
    },
    {
      "cell_type": "code",
      "source": [
        "import matplotlib.pyplot as plt\n",
        "plt.plot(history.history['accuracy'])\n",
        "plt.plot(history.history['val_accuracy'])"
      ],
      "metadata": {
        "colab": {
          "base_uri": "https://localhost:8080/",
          "height": 448
        },
        "id": "p8OZfIOYUGtx",
        "outputId": "02c07132-78c9-4207-dda3-bda98f71ac38"
      },
      "execution_count": 91,
      "outputs": [
        {
          "output_type": "execute_result",
          "data": {
            "text/plain": [
              "[<matplotlib.lines.Line2D at 0x7ada6eeb5e40>]"
            ]
          },
          "metadata": {},
          "execution_count": 91
        },
        {
          "output_type": "display_data",
          "data": {
            "text/plain": [
              "<Figure size 640x480 with 1 Axes>"
            ],
            "image/png": "[encoded data removed]"
          },
          "metadata": {}
        }
      ]
    },
    {
      "cell_type": "code",
      "source": [],
      "metadata": {
        "id": "Sx5eMGGcUMQJ"
      },
      "execution_count": 91,
      "outputs": []
    },
    {
      "cell_type": "code",
      "source": [
        "import cv2\n",
        "\n",
        "# Load the test image\n",
        "test_img_path = '/content/men2.jpg'  # Corrected file path\n",
        "test_img = cv2.imread(test_img_path)\n",
        "test_img = cv2.resize(test_img, (250, 250))\n",
        "test_input = test_img.reshape((1, 250, 250, 3))\n",
        "\n",
        "# Make the prediction\n",
        "predictions = model.predict(test_input)\n",
        "\n",
        "threshold = 0.5\n",
        "\n",
        "# Convert probabilities to binary predictions\n",
        "predicted_gender = (predictions > threshold).astype(int)\n",
        "\n",
        "# Print or use the predicted gender\n",
        "print(\"Predicted Gender:\", \"Female\" if predicted_gender[0] else \"Male\")\n"
      ],
      "metadata": {
        "colab": {
          "base_uri": "https://localhost:8080/"
        },
        "id": "n9HoDNyGUaPp",
        "outputId": "ad02e3db-3688-4c78-a450-4e06e240676d"
      },
      "execution_count": 112,
      "outputs": [
        {
          "output_type": "stream",
          "name": "stdout",
          "text": [
            "1/1 [==============================] - 0s 20ms/step\n",
            "Predicted Gender: Female\n"
          ]
        }
      ]
    },
    {
      "cell_type": "code",
      "source": [],
      "metadata": {
        "id": "iongGRMOXAbo"
      },
      "execution_count": 89,
      "outputs": []
    }
  ],
  "metadata": {
    "accelerator": "GPU",
    "colab": {
      "provenance": [],
      "gpuType": "T4",
      "authorship_tag": "ABX9TyOZIbewjP2DkPacxclq4KhD",
      "include_colab_link": true
    },
    "kernelspec": {
      "display_name": "Python 3",
      "name": "python3"
    },
    "language_info": {
      "name": "python"
    }
  },
  "nbformat": 4,
  "nbformat_minor": 0
}